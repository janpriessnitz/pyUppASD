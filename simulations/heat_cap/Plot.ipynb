{
 "cells": [
  {
   "cell_type": "code",
   "execution_count": 9,
   "metadata": {},
   "outputs": [],
   "source": [
    "import numpy as np\n",
    "import matplotlib.pyplot as plt\n",
    "import os"
   ]
  },
  {
   "cell_type": "code",
   "execution_count": 10,
   "metadata": {},
   "outputs": [],
   "source": [
    "run_dir = 'MnO_no1_half'\n",
    "\n",
    "Ts = []\n",
    "Cvs = []\n",
    "Ms = []\n",
    "\n",
    "for d in os.listdir(run_dir):\n",
    "  try:\n",
    "    T = float(d)\n",
    "  except:\n",
    "    continue\n",
    "  if T == 0.01:\n",
    "    continue\n",
    "  try:\n",
    "    cumu = np.genfromtxt(os.path.join(run_dir, d, \"cumulants.EXP_NAME.out\"))\n",
    "    Cv = cumu[-1, 6]\n",
    "    avrg = np.genfromtxt(os.path.join(run_dir, d, \"averages.EXP_NAME.out\"))\n",
    "    M = avrg[-1, 4]\n",
    "    Ms.append(M)\n",
    "    Ts.append(T)\n",
    "    Cvs.append(Cv)\n",
    "  except:\n",
    "    continue"
   ]
  },
  {
   "cell_type": "code",
   "execution_count": 11,
   "metadata": {},
   "outputs": [],
   "source": [
    "plt.figure(dpi=300)\n",
    "plt.scatter(Ts, Cvs)\n",
    "plt.title(\"Heat capacity of NiO\")\n",
    "plt.xlabel(r\"$T$ [K]\")\n",
    "plt.ylabel(r\"$C_v$\")\n",
    "\n",
    "Tc = Ts[np.argmax(Cvs)]\n",
    "plt.text(6, 4, r\"$T_c = {:0.1f}$ K\".format(Tc))\n",
    "# plt.yscale(\"log\")\n",
    "plt.show()"
   ]
  },
  {
   "cell_type": "code",
   "execution_count": 12,
   "metadata": {},
   "outputs": [
    {
     "name": "stdout",
     "output_type": "stream",
     "text": [
      "40.413232\n"
     ]
    }
   ],
   "source": [
    "print(Tc)"
   ]
  },
  {
   "cell_type": "code",
   "execution_count": null,
   "metadata": {},
   "outputs": [
    {
     "ename": "ValueError",
     "evalue": "attempt to get argmax of an empty sequence",
     "output_type": "error",
     "traceback": [
      "\u001b[0;31m---------------------------------------------------------------------------\u001b[0m",
      "\u001b[0;31mValueError\u001b[0m                                Traceback (most recent call last)",
      "Cell \u001b[0;32mIn[7], line 7\u001b[0m\n\u001b[1;32m      4\u001b[0m plt\u001b[39m.\u001b[39mxlabel(\u001b[39mr\u001b[39m\u001b[39m\"\u001b[39m\u001b[39m$T$ [K]\u001b[39m\u001b[39m\"\u001b[39m)\n\u001b[1;32m      5\u001b[0m plt\u001b[39m.\u001b[39mylabel(\u001b[39mr\u001b[39m\u001b[39m\"\u001b[39m\u001b[39m$C_v$\u001b[39m\u001b[39m\"\u001b[39m)\n\u001b[0;32m----> 7\u001b[0m Tc \u001b[39m=\u001b[39m Ts[np\u001b[39m.\u001b[39;49margmax(Cvs)]\n\u001b[1;32m      8\u001b[0m plt\u001b[39m.\u001b[39mtext(\u001b[39m0\u001b[39m, \u001b[39m10\u001b[39m, \u001b[39mr\u001b[39m\u001b[39m\"\u001b[39m\u001b[39m$T_c = \u001b[39m\u001b[39m{:0.1f}\u001b[39;00m\u001b[39m$ K\u001b[39m\u001b[39m\"\u001b[39m\u001b[39m.\u001b[39mformat(Tc))\n\u001b[1;32m      9\u001b[0m plt\u001b[39m.\u001b[39myscale(\u001b[39m\"\u001b[39m\u001b[39mlog\u001b[39m\u001b[39m\"\u001b[39m)\n",
      "File \u001b[0;32m<__array_function__ internals>:5\u001b[0m, in \u001b[0;36margmax\u001b[0;34m(*args, **kwargs)\u001b[0m\n",
      "File \u001b[0;32m/apps/all/SciPy-bundle/2020.11-intel-2020b/lib/python3.8/site-packages/numpy/core/fromnumeric.py:1188\u001b[0m, in \u001b[0;36margmax\u001b[0;34m(a, axis, out)\u001b[0m\n\u001b[1;32m   1114\u001b[0m \u001b[39m@array_function_dispatch\u001b[39m(_argmax_dispatcher)\n\u001b[1;32m   1115\u001b[0m \u001b[39mdef\u001b[39;00m \u001b[39margmax\u001b[39m(a, axis\u001b[39m=\u001b[39m\u001b[39mNone\u001b[39;00m, out\u001b[39m=\u001b[39m\u001b[39mNone\u001b[39;00m):\n\u001b[1;32m   1116\u001b[0m     \u001b[39m\"\"\"\u001b[39;00m\n\u001b[1;32m   1117\u001b[0m \u001b[39m    Returns the indices of the maximum values along an axis.\u001b[39;00m\n\u001b[1;32m   1118\u001b[0m \n\u001b[0;32m   (...)\u001b[0m\n\u001b[1;32m   1186\u001b[0m \n\u001b[1;32m   1187\u001b[0m \u001b[39m    \"\"\"\u001b[39;00m\n\u001b[0;32m-> 1188\u001b[0m     \u001b[39mreturn\u001b[39;00m _wrapfunc(a, \u001b[39m'\u001b[39;49m\u001b[39margmax\u001b[39;49m\u001b[39m'\u001b[39;49m, axis\u001b[39m=\u001b[39;49maxis, out\u001b[39m=\u001b[39;49mout)\n",
      "File \u001b[0;32m/apps/all/SciPy-bundle/2020.11-intel-2020b/lib/python3.8/site-packages/numpy/core/fromnumeric.py:55\u001b[0m, in \u001b[0;36m_wrapfunc\u001b[0;34m(obj, method, *args, **kwds)\u001b[0m\n\u001b[1;32m     53\u001b[0m bound \u001b[39m=\u001b[39m \u001b[39mgetattr\u001b[39m(obj, method, \u001b[39mNone\u001b[39;00m)\n\u001b[1;32m     54\u001b[0m \u001b[39mif\u001b[39;00m bound \u001b[39mis\u001b[39;00m \u001b[39mNone\u001b[39;00m:\n\u001b[0;32m---> 55\u001b[0m     \u001b[39mreturn\u001b[39;00m _wrapit(obj, method, \u001b[39m*\u001b[39;49margs, \u001b[39m*\u001b[39;49m\u001b[39m*\u001b[39;49mkwds)\n\u001b[1;32m     57\u001b[0m \u001b[39mtry\u001b[39;00m:\n\u001b[1;32m     58\u001b[0m     \u001b[39mreturn\u001b[39;00m bound(\u001b[39m*\u001b[39margs, \u001b[39m*\u001b[39m\u001b[39m*\u001b[39mkwds)\n",
      "File \u001b[0;32m/apps/all/SciPy-bundle/2020.11-intel-2020b/lib/python3.8/site-packages/numpy/core/fromnumeric.py:44\u001b[0m, in \u001b[0;36m_wrapit\u001b[0;34m(obj, method, *args, **kwds)\u001b[0m\n\u001b[1;32m     42\u001b[0m \u001b[39mexcept\u001b[39;00m \u001b[39mAttributeError\u001b[39;00m:\n\u001b[1;32m     43\u001b[0m     wrap \u001b[39m=\u001b[39m \u001b[39mNone\u001b[39;00m\n\u001b[0;32m---> 44\u001b[0m result \u001b[39m=\u001b[39m \u001b[39mgetattr\u001b[39;49m(asarray(obj), method)(\u001b[39m*\u001b[39;49margs, \u001b[39m*\u001b[39;49m\u001b[39m*\u001b[39;49mkwds)\n\u001b[1;32m     45\u001b[0m \u001b[39mif\u001b[39;00m wrap:\n\u001b[1;32m     46\u001b[0m     \u001b[39mif\u001b[39;00m \u001b[39mnot\u001b[39;00m \u001b[39misinstance\u001b[39m(result, mu\u001b[39m.\u001b[39mndarray):\n",
      "\u001b[0;31mValueError\u001b[0m: attempt to get argmax of an empty sequence"
     ]
    }
   ],
   "source": [
    "plt.figure(dpi=300)\n",
    "plt.scatter(Ts, Ms)\n",
    "plt.title(\"Magnetization of NiO\")\n",
    "plt.xlabel(r\"$T$ [K]\")\n",
    "plt.ylabel(r\"$C_v$\")\n",
    "\n",
    "Tc = Ts[np.argmax(Cvs)]\n",
    "plt.text(0, 10, r\"$T_c = {:0.1f}$ K\".format(Tc))\n",
    "plt.yscale(\"log\")"
   ]
  },
  {
   "cell_type": "code",
   "execution_count": null,
   "metadata": {},
   "outputs": [
    {
     "data": {
      "text/plain": [
       "<matplotlib.collections.PathCollection at 0x7f044c651b20>"
      ]
     },
     "execution_count": 10,
     "metadata": {},
     "output_type": "execute_result"
    }
   ],
   "source": [
    "plt.scatter(Ts, Cvs)\n",
    "# plt.yscale(\"log\")"
   ]
  },
  {
   "cell_type": "code",
   "execution_count": null,
   "metadata": {},
   "outputs": [
    {
     "data": {
      "text/plain": [
       "<matplotlib.collections.PathCollection at 0x7f159368f850>"
      ]
     },
     "execution_count": 58,
     "metadata": {},
     "output_type": "execute_result"
    },
    {
     "data": {
      "image/png": "[encoded data removed]",
      "text/plain": [
       "<Figure size 432x288 with 1 Axes>"
      ]
     },
     "metadata": {
      "needs_background": "light"
     },
     "output_type": "display_data"
    }
   ],
   "source": [
    "plt.scatter(Ts, Cvs)\n",
    "# plt.yscale(\"log\")"
   ]
  },
  {
   "cell_type": "code",
   "execution_count": null,
   "metadata": {},
   "outputs": [
    {
     "data": {
      "text/plain": [
       "<matplotlib.collections.PathCollection at 0x7f15936d3220>"
      ]
     },
     "execution_count": 55,
     "metadata": {},
     "output_type": "execute_result"
    },
    {
     "data": {
      "image/png": "[encoded data removed]",
      "text/plain": [
       "<Figure size 432x288 with 1 Axes>"
      ]
     },
     "metadata": {
      "needs_background": "light"
     },
     "output_type": "display_data"
    }
   ],
   "source": [
    "plt.scatter(Ts, Cvs)\n",
    "# plt.yscale(\"log\")"
   ]
  },
  {
   "cell_type": "code",
   "execution_count": 39,
   "metadata": {},
   "outputs": [
    {
     "name": "stdout",
     "output_type": "stream",
     "text": [
      "[1.04912492, 1.49903119, 1.38685847, 0.76065544, 1.76533595, 1.27570638, 1.38205505, 1.3038609, 1.58349472, 1.30415383, 1.45676286, 1.82094161, 1.4981779, 1.63030473, 1.58717186, 1.69695785, 1.90129249, 1.7126579, 1.57024248, 0.886116003, 1.39613072, 1.64305999, 1.969826, 16.2660635, 1.37394705, 1.66693538, 1.59967084, 1.68566331, 1.66045776, 1.23676085, 1.41596193, 2.55361852, 1.4146479, 2.05697336, 1.47854195, 1.7359901, 1.60773089, 0.766201274, 1.7171866, 1.45730363, 2.05884931, 1.18826669, 1.76911297, 1.145801, 1.65278867, 1.80836971, 1.60734906, 1.16005848, 1.1082256, 1.33281301]\n"
     ]
    }
   ],
   "source": [
    "print(Cvs)"
   ]
  },
  {
   "cell_type": "code",
   "execution_count": 40,
   "metadata": {},
   "outputs": [
    {
     "data": {
      "text/plain": [
       "23"
      ]
     },
     "execution_count": 40,
     "metadata": {},
     "output_type": "execute_result"
    }
   ],
   "source": [
    "np.argmax(Cvs)"
   ]
  },
  {
   "cell_type": "code",
   "execution_count": 41,
   "metadata": {},
   "outputs": [
    {
     "data": {
      "text/plain": [
       "0.01"
      ]
     },
     "execution_count": 41,
     "metadata": {},
     "output_type": "execute_result"
    }
   ],
   "source": [
    "Ts[23]"
   ]
  },
  {
   "cell_type": "code",
   "execution_count": null,
   "metadata": {},
   "outputs": [],
   "source": []
  }
 ],
 "metadata": {
  "kernelspec": {
   "display_name": "Python 3",
   "language": "python",
   "name": "python3"
  },
  "language_info": {
   "codemirror_mode": {
    "name": "ipython",
    "version": 3
   },
   "file_extension": ".py",
   "mimetype": "text/x-python",
   "name": "python",
   "nbconvert_exporter": "python",
   "pygments_lexer": "ipython3",
   "version": "3.8.6"
  },
  "orig_nbformat": 4
 },
 "nbformat": 4,
 "nbformat_minor": 2
}
